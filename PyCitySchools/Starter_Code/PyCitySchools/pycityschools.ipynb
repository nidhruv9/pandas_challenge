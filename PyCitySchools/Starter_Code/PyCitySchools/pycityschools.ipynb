{
 "cells": [
  {
   "cell_type": "markdown",
   "id": "873a3fa5",
   "metadata": {},
   "source": [
    "# pycity Schools Analysis\n",
    "\n",
    "Summary Analysis:\n",
    "\n",
    "In this pycityschools analysis, we have created different DataFrames (named: school_summary, school_spending_df, size_summary and type_summary) to analyse the overall performance of different schools in the district i.e. average scores along with percentage of passing in math or/and reading based on spending, size and type of the schools.\n",
    "\n",
    "\n",
    "\n",
    "Conclusions:\n",
    "\n",
    "1. After analysing the spending_summary and size_summary DataFrames, we may say that overall performance is decreasing as per student budget or school sizes are increasing.\n",
    "\n",
    "2. By looking at the type_summary DataFrame we may conclude that district schools have much less overall passing rate than Charter schools.It is also matching with the fact that by overall performance criteria, the top five schools are all charter whereas bottom five schools are all district schools."
   ]
  },
  {
   "cell_type": "code",
   "execution_count": null,
   "id": "7c162486",
   "metadata": {},
   "outputs": [],
   "source": [
    "# Dependencies and Setup\n",
    "import pandas as pd\n"
   ]
  },
  {
   "cell_type": "code",
   "execution_count": null,
   "id": "348c05ab",
   "metadata": {},
   "outputs": [],
   "source": [
    "# Reading School and Student Data File and store into Pandas DataFrames\n",
    "school_data_df = pd.read_csv(\"./Resources/schools_complete.csv\")\n",
    "student_data_df = pd.read_csv(\"./Resources/students_complete.csv\")"
   ]
  },
  {
   "cell_type": "code",
   "execution_count": null,
   "id": "d7997568",
   "metadata": {},
   "outputs": [],
   "source": [
    "# printing the school DataFrame\n",
    "school_data_df.head()"
   ]
  },
  {
   "cell_type": "code",
   "execution_count": null,
   "id": "6d98e9c9",
   "metadata": {},
   "outputs": [],
   "source": [
    "# printing the student DataFrame\n",
    "student_data_df.head()"
   ]
  },
  {
   "cell_type": "code",
   "execution_count": null,
   "id": "ec11c9a8",
   "metadata": {},
   "outputs": [],
   "source": [
    "# Combining all school data into a single dataset named all_data.\n",
    "\n",
    "all_data_df = pd.merge(school_data_df,student_data_df,how=\"left\",on=[\"school_name\"])\n",
    "all_data_df.head()"
   ]
  },
  {
   "cell_type": "markdown",
   "id": "37b9373b",
   "metadata": {},
   "source": [
    "# District Summary "
   ]
  },
  {
   "cell_type": "code",
   "execution_count": null,
   "id": "005da11f",
   "metadata": {},
   "outputs": [],
   "source": [
    "# Calculating the total number of unique schools\n",
    "\n",
    "unique_schools_total = len(all_data_df[\"school_name\"].unique())\n",
    "unique_schools_total"
   ]
  },
  {
   "cell_type": "code",
   "execution_count": null,
   "id": "b570c65a",
   "metadata": {},
   "outputs": [],
   "source": [
    "# Calculate the total number of students\n",
    "\n",
    "students_total = all_data_df[\"student_name\"].count()\n",
    "students_total\n"
   ]
  },
  {
   "cell_type": "code",
   "execution_count": null,
   "id": "84aa9eab",
   "metadata": {},
   "outputs": [],
   "source": [
    "# Calculating the total budget\n",
    "\n",
    "total_budget = school_data_df[\"budget\"].sum()\n",
    "total_budget\n"
   ]
  },
  {
   "cell_type": "code",
   "execution_count": null,
   "id": "467351c2",
   "metadata": {},
   "outputs": [],
   "source": [
    "# Calculating the Average math score\n",
    "avg_math_score = all_data_df[\"math_score\"].mean()\n",
    "avg_math_score\n"
   ]
  },
  {
   "cell_type": "code",
   "execution_count": null,
   "id": "04b9a1e6",
   "metadata": {},
   "outputs": [],
   "source": [
    "# Calculating the Average reading score\n",
    "avg_reading_score = all_data_df[\"reading_score\"].mean()\n",
    "avg_reading_score"
   ]
  },
  {
   "cell_type": "code",
   "execution_count": null,
   "id": "47a3ab3e",
   "metadata": {},
   "outputs": [],
   "source": [
    "# Using the (following) given code to calculate the percentage of students who passed math (math scores greather than or equal to 70)\n",
    "\n",
    "\n",
    "passing_math_count = all_data_df[(all_data_df[\"math_score\"] >= 70)].count()[\"student_name\"]\n",
    "passing_math_percentage = (passing_math_count / float(students_total)) * 100\n",
    "passing_math_percentage"
   ]
  },
  {
   "cell_type": "code",
   "execution_count": null,
   "id": "42e83977",
   "metadata": {},
   "outputs": [],
   "source": [
    "#Calculating the percentage of students who passed reading (reading scores greather than or equal to 70)\n",
    "\n",
    "passing_reading_count = all_data_df[(all_data_df[\"reading_score\"] >= 70)].count()[\"student_name\"]\n",
    "passing_reading_percentage = (passing_reading_count / float(students_total)) * 100\n",
    "passing_reading_percentage\n",
    "\n"
   ]
  },
  {
   "cell_type": "code",
   "execution_count": null,
   "id": "f5304cd5",
   "metadata": {},
   "outputs": [],
   "source": [
    "# Using the (following) given code to calculate the percentage of students that passed math and reading\n",
    "\n",
    "passing_math_reading_count = all_data_df[\n",
    "    (all_data_df[\"math_score\"] >= 70) & (all_data_df[\"reading_score\"] >= 70)].count()[\"student_name\"]\n",
    "overall_passing_rate = (passing_math_reading_count) /  float(students_total) * 100\n",
    "overall_passing_rate\n",
    "\n",
    "\n",
    "\n",
    "\n"
   ]
  },
  {
   "cell_type": "code",
   "execution_count": null,
   "id": "f63d1cf1",
   "metadata": {},
   "outputs": [],
   "source": [
    "# Creating a high-level snapshot of the district's key metrics in a DataFrame named district_summary\n",
    "\n",
    "district_summary =pd.DataFrame(\n",
    "    {  \n",
    "        \"Total Schools\":[unique_schools_total],\n",
    "        \"Total Students\":[students_total],\n",
    "        \"Total Budget\":[total_budget],\n",
    "        \"Average Math Score\": [avg_math_score],\n",
    "        \"Average Reading Score\":[avg_reading_score],\n",
    "        \"% Passing Math\":[passing_math_percentage],\n",
    "        \"% Passing Reading\":[passing_reading_percentage],\n",
    "        \"% Overall Passing\" :[overall_passing_rate]         \n",
    "    }  \n",
    ")\n",
    "\n",
    "                                      \n",
    "#Formatting the column values for district summary\n",
    "\n",
    "district_summary[\"Total students\"] = district_summary[\"Total Students\"].map(\"{:,}\".format)\n",
    "district_summary[\"Total Budget\"] = district_summary[\"Total Budget\"].map(\"${:,.2f}\".format)\n",
    "\n",
    "# Displaying the DataFrame (district_summary)\n",
    "\n",
    "district_summary\n"
   ]
  },
  {
   "cell_type": "markdown",
   "id": "a95f6aa0",
   "metadata": {},
   "source": [
    "# School Summary"
   ]
  },
  {
   "cell_type": "code",
   "execution_count": null,
   "id": "44c325d2",
   "metadata": {},
   "outputs": [],
   "source": [
    "# Using the code provided to select all of the school types\n",
    "\n",
    "school_type = school_data_df.set_index([\"school_name\"])[\"type\"]\n",
    "#school_type"
   ]
  },
  {
   "cell_type": "code",
   "execution_count": null,
   "id": "420499f8",
   "metadata": {},
   "outputs": [],
   "source": [
    "# Calculating the total student count per school\n",
    "students_perschool = all_data_df[\"school_name\"].value_counts()\n",
    "\n",
    "#students_perschool"
   ]
  },
  {
   "cell_type": "code",
   "execution_count": null,
   "id": "4ca03d17",
   "metadata": {},
   "outputs": [],
   "source": [
    "# Calculating the total school budget \n",
    "budget_perschool = all_data_df.groupby([\"school_name\"])[\"budget\"].mean()\n",
    "\n",
    "#budget_perschool "
   ]
  },
  {
   "cell_type": "code",
   "execution_count": null,
   "id": "675288fb",
   "metadata": {},
   "outputs": [],
   "source": [
    "# Calculating per capita spending per school\n",
    "capita_perschool = budget_perschool / students_perschool\n",
    "\n",
    "#capita_perschool"
   ]
  },
  {
   "cell_type": "code",
   "execution_count": null,
   "id": "478e8536",
   "metadata": {},
   "outputs": [],
   "source": [
    "# Calculating the average test scores per school for Math\n",
    "\n",
    "avg_math_score_perschool = all_data_df.groupby([\"school_name\"])[\"math_score\"].mean()\n",
    "#avg_math_score_perschool"
   ]
  },
  {
   "cell_type": "code",
   "execution_count": null,
   "id": "531fd9da",
   "metadata": {},
   "outputs": [],
   "source": [
    "# Calculating the average test scores per school for Reading\n",
    "\n",
    "avg_reading_score_perschool = all_data_df.groupby([\"school_name\"])[\"reading_score\"].mean()\n",
    "#avg_reading_score_perschool"
   ]
  },
  {
   "cell_type": "code",
   "execution_count": null,
   "id": "23925ea9",
   "metadata": {},
   "outputs": [],
   "source": [
    "# Calculating the number of students per school with math scores of 70 or higher\n",
    "\n",
    "passing_math_students_perschool = all_data_df[all_data_df[\"math_score\"]>=70]\n",
    "\n",
    "#passing_math_students_perschool"
   ]
  },
  {
   "cell_type": "code",
   "execution_count": null,
   "id": "cfaa633c",
   "metadata": {},
   "outputs": [],
   "source": [
    "# Calculating the number of students per school with reading scores of 70 or higher\n",
    "\n",
    "passing_reading_students_perschool = all_data_df[all_data_df[\"reading_score\"]>=70]\n",
    "#passing_reading_students_perschool"
   ]
  },
  {
   "cell_type": "code",
   "execution_count": null,
   "id": "05d4a255",
   "metadata": {},
   "outputs": [],
   "source": [
    "#Calculating the number of students per school that passed both math and reading with scores of 70 or higher\n",
    "passing_math_and_reading_students = all_data_df[(all_data_df[\"reading_score\"] >= 70) & (all_data_df[\"math_score\"] >= 70)]\n",
    "\n",
    "\n",
    "#passing_math_and_reading_students_perschool "
   ]
  },
  {
   "cell_type": "code",
   "execution_count": null,
   "id": "7f0dafe1",
   "metadata": {},
   "outputs": [],
   "source": [
    "# Calculating the passing rates\n",
    "\n",
    "\n",
    "passing_percent_math_perschool = (passing_math_students_perschool.groupby([\"school_name\"]).count()[\"student_name\"]/\\\n",
    "                                students_perschool)*100\n",
    "passing_percent_reading_perschool = (passing_reading_students_perschool.groupby([\"school_name\"]).count()[\"student_name\"]/\\\n",
    "                                students_perschool)*100\n",
    "overall_passing_rate = (passing_math_and_reading_students.groupby([\"school_name\"]).count()[\"student_name\"]/\\\n",
    "                                students_perschool)*100\n",
    "\n"
   ]
  },
  {
   "cell_type": "code",
   "execution_count": null,
   "id": "5ed27aa7",
   "metadata": {},
   "outputs": [],
   "source": [
    "# Creating a DataFrame called `per_school_summary` with columns for the calculations above.\n",
    "\n",
    "per_school_summary = pd.DataFrame(\n",
    "    {\n",
    "    \"School Type\":school_type,\n",
    "    \"Total Students\":students_perschool,\n",
    "    \"Total School Budget\":budget_perschool ,\n",
    "    \"Per Student Budget\":capita_perschool,\n",
    "    \"Average Math Score\":avg_math_score_perschool,\n",
    "    \"Average Reading Score\":avg_reading_score_perschool,\n",
    "    \"% Passing Math\":passing_percent_math_perschool,\n",
    "    \"% Passing Reading\":passing_percent_reading_perschool,\n",
    "    \"% Overall Passing\":overall_passing_rate   \n",
    "})\n",
    "\n",
    "# Formatting the column values \n",
    "per_school_summary[\"Total School Budget\"] = per_school_summary[\"Total School Budget\"].map(\"${:,.2f}\".format)\n",
    "per_school_summary[\"Per Student Budget\"] = per_school_summary[\"Per Student Budget\"].map(\"${:,.2f}\".format)\n",
    "\n",
    "#Displaying the DataFrame\n",
    "per_school_summary\n",
    "\n",
    "\n"
   ]
  },
  {
   "cell_type": "markdown",
   "id": "1316a175",
   "metadata": {},
   "source": [
    "# Highest-Performing Schools (by % Overall Passing)"
   ]
  },
  {
   "cell_type": "code",
   "execution_count": null,
   "id": "f89b6307",
   "metadata": {},
   "outputs": [],
   "source": [
    "# Sorting the schools by `% Overall Passing` in descending order and displaying the top 5 rows.\n",
    "top5_performing_schools = per_school_summary.sort_values([\"% Overall Passing\"],ascending = False)\n",
    "top5_performing_schools.head(5)"
   ]
  },
  {
   "cell_type": "markdown",
   "id": "961c818f",
   "metadata": {},
   "source": [
    "# Bottom Performing Schools (By % Overall Passing)"
   ]
  },
  {
   "cell_type": "code",
   "execution_count": null,
   "id": "17053610",
   "metadata": {},
   "outputs": [],
   "source": [
    "# Sorting the schools by `% Overall Passing` in ascending order and displaying the top 5 rows.\n",
    "bottom5_performing_schools = per_school_summary.sort_values([\"% Overall Passing\"],ascending = True)\n",
    "bottom5_performing_schools.head(5)"
   ]
  },
  {
   "cell_type": "markdown",
   "id": "2df17181",
   "metadata": {},
   "source": [
    "# Math Scores by Grade"
   ]
  },
  {
   "cell_type": "code",
   "execution_count": null,
   "id": "96b60001",
   "metadata": {},
   "outputs": [],
   "source": [
    "# Using the code provided to separate the data by grade\n",
    "\n",
    "Ninth_grade_students = all_data_df[all_data_df[\"grade\"]==\"9th\"]\n",
    "Tenth_grade_students = all_data_df[all_data_df[\"grade\"]==\"10th\"]\n",
    "Eleventh_grade_students = all_data_df[all_data_df[\"grade\"]==\"11th\"]\n",
    "Twelth_grade_students = all_data_df[all_data_df[\"grade\"]==\"12th\"]\n",
    "\n",
    "\n",
    "#Group by `school_name` and taking the mean of the `math_score` column for each.\n",
    "Ninth_grade_students_avgmath_perschool = Ninth_grade_students.groupby([\"school_name\"])[\"math_score\"].mean()\n",
    "Tenth_grade_students_avgmath_perschool = Tenth_grade_students.groupby([\"school_name\"])[\"math_score\"].mean()\n",
    "Eleventh_grade_students_avgmath_perschool = Eleventh_grade_students.groupby([\"school_name\"])[\"math_score\"].mean()\n",
    "Twelth_grade_students_avgmath_perschool = Twelth_grade_students.groupby([\"school_name\"])[\"math_score\"].mean()\n",
    "\n",
    "\n",
    "# Combining each of the scores above into single DataFrame named `math_scores_by_grade`\n",
    "math_scores_by_grade =pd.DataFrame({\n",
    "    \n",
    "    \"9th\":Ninth_grade_students_avgmath_perschool,\n",
    "    \"10th\":Tenth_grade_students_avgmath_perschool,\n",
    "    \"11th\":Eleventh_grade_students_avgmath_perschool,\n",
    "    \"12th\":Twelth_grade_students_avgmath_perschool   \n",
    "})\n",
    "\n",
    "# Minor data wrangling\n",
    "math_scores_by_grade.index.name = None\n",
    "\n",
    "\n",
    "# Displaying the DataFrame\n",
    "math_scores_by_grade"
   ]
  },
  {
   "cell_type": "markdown",
   "id": "e900b045",
   "metadata": {},
   "source": [
    "# Reading Score by Grade"
   ]
  },
  {
   "cell_type": "code",
   "execution_count": null,
   "id": "047b4676",
   "metadata": {},
   "outputs": [],
   "source": [
    "# Using the code provided to separate the data by grade\n",
    "\n",
    "Ninth_grade_students = all_data_df[all_data_df[\"grade\"]==\"9th\"]\n",
    "Tenth_grade_students = all_data_df[all_data_df[\"grade\"]==\"10th\"]\n",
    "Eleventh_grade_students = all_data_df[all_data_df[\"grade\"]==\"11th\"]\n",
    "Twelth_grade_students = all_data_df[all_data_df[\"grade\"]==\"12th\"]\n",
    "\n",
    "\n",
    "# Group by `school_name` and take the mean of the the `reading_score` column for each.\n",
    "Ninth_grade_students_avgreading_perschool = Ninth_grade_students.groupby([\"school_name\"])[\"reading_score\"].mean()\n",
    "Tenth_grade_students_avgreading_perschool = Tenth_grade_students.groupby([\"school_name\"])[\"reading_score\"].mean()\n",
    "Eleventh_grade_students_avgreading_perschool = Eleventh_grade_students.groupby([\"school_name\"])[\"reading_score\"].mean()\n",
    "Twelth_grade_students_avgreading_perschool = Twelth_grade_students.groupby([\"school_name\"])[\"reading_score\"].mean()\n",
    "\n",
    "\n",
    "# Combining each of the scores above into single DataFrame named `reading_scores_by_grade`\n",
    "reading_scores_by_grade =pd.DataFrame({\n",
    "    \n",
    "    \"9th\":Ninth_grade_students_avgreading_perschool,\n",
    "    \"10th\":Tenth_grade_students_avgreading_perschool,\n",
    "    \"11th\":Eleventh_grade_students_avgreading_perschool,\n",
    "    \"12th\":Twelth_grade_students_avgreading_perschool    \n",
    "})\n",
    "\n",
    "\n",
    "# Minor data wrangling\n",
    "reading_scores_by_grade = reading_scores_by_grade[[\"9th\", \"10th\", \"11th\", \"12th\"]]\n",
    "reading_scores_by_grade.index.name = None\n",
    "\n",
    "\n",
    "# Displaying the DataFrame\n",
    "reading_scores_by_grade\n",
    "\n"
   ]
  },
  {
   "cell_type": "markdown",
   "id": "2fd0d0f5",
   "metadata": {},
   "source": [
    "# Scores by School Spending"
   ]
  },
  {
   "cell_type": "code",
   "execution_count": null,
   "id": "70fc572d",
   "metadata": {},
   "outputs": [],
   "source": [
    "# Establishing the bins \n",
    "spending_bins = [0, 585, 630, 645, 680]\n",
    "\n",
    "# cretating and naming the labels for the above bins \n",
    "ranges_names = [\"<$585\", \"$585-630\", \"$630-645\", \"$645-680\"]\n",
    "\n",
    "# Creating a copy of the school summary since it has the \"Per Student Budget\" \n",
    "school_spending_df = per_school_summary.copy()\n",
    "\n",
    "# Using `pd.cut` to categorize spending based on the bins.\n",
    "school_spending_df[\"Spending Ranges (Per Student)\"] = pd.cut(capita_perschool,bins = spending_bins, labels = ranges_names)\n",
    "school_spending_df\n",
    "\n",
    "\n"
   ]
  },
  {
   "cell_type": "code",
   "execution_count": null,
   "id": "05287b5e",
   "metadata": {},
   "outputs": [],
   "source": [
    "#  Calculating averages for the desired columns. \n",
    "spending_math_scores = school_spending_df.groupby([\"Spending Ranges (Per Student)\"])[\"Average Math Score\"].mean()\n",
    "spending_reading_scores = school_spending_df.groupby([\"Spending Ranges (Per Student)\"])[\"Average Reading Score\"].mean()\n",
    "spending_passing_math = school_spending_df.groupby([\"Spending Ranges (Per Student)\"])[\"% Passing Math\"].mean()\n",
    "spending_passing_reading = school_spending_df.groupby([\"Spending Ranges (Per Student)\"])[\"% Passing Reading\"].mean()\n",
    "spending_passing_overall = school_spending_df.groupby([\"Spending Ranges (Per Student)\"])[\"% Overall Passing\"].mean()\n",
    "\n",
    "\n"
   ]
  },
  {
   "cell_type": "code",
   "execution_count": null,
   "id": "f2c51fd1",
   "metadata": {},
   "outputs": [],
   "source": [
    "# Assembling the data into DataFrame named spending_summary\n",
    "spending_summary =pd.DataFrame({\n",
    "    \"Average Math Score\":spending_math_scores,\n",
    "    \"Average Reading Score\":spending_reading_scores,\n",
    "    \"% Passing Math\":spending_passing_math,\n",
    "    \"% Passing Reading\":spending_passing_reading,\n",
    "    \"% Overall Passing\":spending_passing_overall    \n",
    "})\n",
    "\n",
    "# Displaying the DataFrame\n",
    "spending_summary\n"
   ]
  },
  {
   "cell_type": "markdown",
   "id": "3ce77966",
   "metadata": {},
   "source": [
    "# Scores by School Size"
   ]
  },
  {
   "cell_type": "code",
   "execution_count": null,
   "id": "86ba6977",
   "metadata": {},
   "outputs": [],
   "source": [
    "# Establishing the bins\n",
    "size_bins = [0, 1000, 2000, 5000]\n",
    "\n",
    "# Categorizing the spending based on the bins\n",
    "labels = [\"Small (<1000)\", \"Medium (1000-2000)\", \"Large(2000-5000)\"]"
   ]
  },
  {
   "cell_type": "code",
   "execution_count": null,
   "id": "3881e059",
   "metadata": {},
   "outputs": [],
   "source": [
    "# Using `pd.cut` on the \"Total Students\" column of the `per_school_summary` DataFrame.\n",
    "\n",
    "per_school_summary[\"School Size\"] = pd.cut(per_school_summary[\"Total Students\"], size_bins, labels=labels)\n",
    "per_school_summary"
   ]
  },
  {
   "cell_type": "code",
   "execution_count": null,
   "id": "e8f2a313",
   "metadata": {},
   "outputs": [],
   "source": [
    "# Calculating averages for the desired columns. \n",
    "\n",
    "size_math_scores = per_school_summary.groupby([\"School Size\"])[\"Average Math Score\"].mean()\n",
    "size_reading_scores = per_school_summary.groupby([\"School Size\"])[\"Average Reading Score\"].mean()\n",
    "size_passing_math = per_school_summary.groupby([\"School Size\"])[\"% Passing Math\"].mean()\n",
    "size_passing_reading = per_school_summary.groupby([\"School Size\"])[\"% Passing Reading\"].mean()\n",
    "size_passing_overall = per_school_summary.groupby([\"School Size\"])[\"% Overall Passing\"].mean()"
   ]
  },
  {
   "cell_type": "code",
   "execution_count": null,
   "id": "1fd2aff9",
   "metadata": {
    "scrolled": true
   },
   "outputs": [],
   "source": [
    "#Using the scores above and Creating the DataFrame called `size_summary` that breaks down school performance \n",
    "#based on school size (small, medium, or large) \n",
    "\n",
    "size_summary = pd.DataFrame({\n",
    "    \"Average Math Score\":size_math_scores,\n",
    "    \"Average Reading Score\":size_reading_scores,\n",
    "    \"% Passing Math\":size_passing_math,\n",
    "    \"% Passing Reading\":size_passing_reading,\n",
    "    \"% Overall Passing\":size_passing_overall   \n",
    "})\n",
    "\n",
    "#Displaying the DataFrame\n",
    "size_summary"
   ]
  },
  {
   "cell_type": "markdown",
   "id": "59f24141",
   "metadata": {},
   "source": [
    "# Scores by School Type"
   ]
  },
  {
   "cell_type": "code",
   "execution_count": null,
   "id": "92d4f126",
   "metadata": {},
   "outputs": [],
   "source": [
    "# Grouping the per_school_summary DataFrame by \"School Type\" and averaging the results.\n",
    "\n",
    "type_avg_math_scores = per_school_summary.groupby([\"School Type\"])[\"Average Math Score\"].mean()\n",
    "type_avg_reading_scores = per_school_summary.groupby([\"School Type\"])[\"Average Reading Score\"].mean()\n",
    "type_avg_percent_passing_math_scores = per_school_summary.groupby([\"School Type\"])[\"% Passing Math\"].mean()\n",
    "type_avg_percent_passing_reading_scores = per_school_summary.groupby([\"School Type\"])[\"% Passing Reading\"].mean()\n",
    "type_avg_percent_overall_passing_scores = per_school_summary.groupby([\"School Type\"])[\"% Overall Passing\"].mean()"
   ]
  },
  {
   "cell_type": "code",
   "execution_count": null,
   "id": "6ce844c6",
   "metadata": {},
   "outputs": [],
   "source": [
    "# Assembling the new data by type DataFrame named `type_summary`\n",
    "type_summary = pd.DataFrame({\n",
    "    \"Average Math Score\":type_avg_math_scores,\n",
    "    \"Average Reading Score\":type_avg_reading_scores,\n",
    "    \"% Passing Math\":type_avg_percent_passing_math_scores,\n",
    "    \"% Passing Reading\":type_avg_percent_passing_reading_scores,\n",
    "    \"% Overall Passing\":type_avg_percent_overall_passing_scores    \n",
    "    \n",
    "})\n",
    "\n",
    "# Displaying results\n",
    "type_summary"
   ]
  }
 ],
 "metadata": {
  "kernelspec": {
   "display_name": "Python 3 (ipykernel)",
   "language": "python",
   "name": "python3"
  },
  "language_info": {
   "codemirror_mode": {
    "name": "ipython",
    "version": 3
   },
   "file_extension": ".py",
   "mimetype": "text/x-python",
   "name": "python",
   "nbconvert_exporter": "python",
   "pygments_lexer": "ipython3",
   "version": "3.11.4"
  }
 },
 "nbformat": 4,
 "nbformat_minor": 5
}
