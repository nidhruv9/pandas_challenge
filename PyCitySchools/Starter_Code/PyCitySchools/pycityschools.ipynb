{
 "cells": [
  {
   "cell_type": "markdown",
   "id": "fc1f0e9e",
   "metadata": {},
   "source": [
    "# PyCity Schools Analysis"
   ]
  },
  {
   "cell_type": "code",
   "execution_count": null,
   "id": "83199985",
   "metadata": {},
   "outputs": [],
   "source": [
    "# Dependencies and Setup\n",
    "import pandas as pd\n"
   ]
  },
  {
   "cell_type": "code",
   "execution_count": null,
   "id": "e3f56ce0",
   "metadata": {},
   "outputs": [],
   "source": [
    "school_data_df = pd.read_csv(\"./Resources/schools_complete.csv\")\n",
    "student_data_df = pd.read_csv(\"./Resources/students_complete.csv\")"
   ]
  },
  {
   "cell_type": "code",
   "execution_count": null,
   "id": "10dc1bd8",
   "metadata": {},
   "outputs": [],
   "source": [
    "# printing the school DataFrame\n",
    "school_data_df.head()"
   ]
  },
  {
   "cell_type": "code",
   "execution_count": null,
   "id": "9a393683",
   "metadata": {},
   "outputs": [],
   "source": [
    "# printing the student DataFrame\n",
    "student_data_df.head()"
   ]
  },
  {
   "cell_type": "code",
   "execution_count": null,
   "id": "ec22a31f",
   "metadata": {},
   "outputs": [],
   "source": [
    "# Combining the all school data into a single dataset named all_data\n",
    "\n",
    "all_data_df = pd.merge(school_data_df,student_data_df,how=\"left\",on=[\"school_name\"])\n",
    "all_data_df.head()"
   ]
  },
  {
   "cell_type": "markdown",
   "id": "7be1607f",
   "metadata": {},
   "source": [
    "# District Summary "
   ]
  },
  {
   "cell_type": "code",
   "execution_count": null,
   "id": "3a15efe9",
   "metadata": {},
   "outputs": [],
   "source": [
    "# Calculating the total number of unique schools\n",
    "\n",
    "unique_schools_total = len(all_data_df[\"school_name\"].unique())\n",
    "unique_schools_total"
   ]
  },
  {
   "cell_type": "code",
   "execution_count": null,
   "id": "16a2f7f4",
   "metadata": {},
   "outputs": [],
   "source": [
    "# Calculating the total number of students\n",
    "\n",
    "students_total = all_data_df[\"student_name\"].count()\n",
    "students_total\n"
   ]
  },
  {
   "cell_type": "code",
   "execution_count": null,
   "id": "26779ef5",
   "metadata": {},
   "outputs": [],
   "source": [
    "# Calculating the total budget\n",
    "\n",
    "total_budget = school_data_df[\"budget\"].sum()\n",
    "total_budget\n"
   ]
  },
  {
   "cell_type": "code",
   "execution_count": null,
   "id": "65abf17e",
   "metadata": {},
   "outputs": [],
   "source": [
    "# Calculating the Average math score\n",
    "avg_math_score = all_data_df[\"math_score\"].mean()\n",
    "avg_math_score\n"
   ]
  },
  {
   "cell_type": "code",
   "execution_count": null,
   "id": "1d96993c",
   "metadata": {},
   "outputs": [],
   "source": [
    "# Calculating the Average reading score\n",
    "avg_reading_score = all_data_df[\"reading_score\"].mean()\n",
    "avg_reading_score"
   ]
  },
  {
   "cell_type": "code",
   "execution_count": null,
   "id": "ecc0197a",
   "metadata": {},
   "outputs": [],
   "source": [
    "#Calculating the percentage of students who passed math (math scores greather than or equal to 70)\n",
    "\n",
    "passing_math_count = all_data_df[(all_data_df[\"math_score\"] >= 70)].count()[\"student_name\"]\n",
    "passing_math_percentage = passing_math_count / float(students_total) * 100\n",
    "passing_math_percentage"
   ]
  },
  {
   "cell_type": "code",
   "execution_count": null,
   "id": "cbabcfde",
   "metadata": {},
   "outputs": [],
   "source": [
    "#Calculating the percentage of students who passed reading (reading scores greather than or equal to 70)\n",
    "\n",
    "passing_reading_count = all_data_df[(all_data_df[\"reading_score\"] >= 70)].count()[\"student_name\"]\n",
    "passing_reading_percentage = passing_reading_count / float(students_total) * 100\n",
    "passing_reading_percentage\n",
    "\n"
   ]
  },
  {
   "cell_type": "code",
   "execution_count": null,
   "id": "7cbc730e",
   "metadata": {},
   "outputs": [],
   "source": [
    "#Calculating the percentage of students that passed both math and reading\n",
    "\n",
    "passing_math_reading_count = all_data_df[\n",
    "    (all_data_df[\"math_score\"] >= 70) & (all_data_df[\"reading_score\"] >= 70)\n",
    "].count()[\"student_name\"]\n",
    "overall_passing_rate = passing_math_reading_count /  float(students_total) * 100\n",
    "overall_passing_rate\n",
    "\n",
    "\n",
    "\n",
    "\n"
   ]
  },
  {
   "cell_type": "code",
   "execution_count": null,
   "id": "2c7cd53a",
   "metadata": {},
   "outputs": [],
   "source": [
    "# Creating a high-level snapshot of the district's key metrics in a DataFrame\n",
    "\n",
    "district_summary =pd.DataFrame(\n",
    "    { \n",
    "       \n",
    "        \"Total Schools\":[unique_schools_total],\n",
    "        \"Total Students\":[students_total],\n",
    "        \"Total Budget\":[total_budget],\n",
    "        \"Average Math Score\": [avg_math_score],\n",
    "        \"Average Reading Score\":[avg_reading_score],\n",
    "        \"% Passing Math\":[passing_math_percentage],\n",
    "        \"% Passing Reading\":[passing_reading_percentage],\n",
    "        \"% Overall Passing\" :[overall_passing_rate]         \n",
    "    }\n",
    "    \n",
    ")\n",
    "\n",
    "                                      \n",
    "#Formatting the column values for district summary\n",
    "\n",
    "district_summary[\"Total students\"] = district_summary[\"Total Students\"].map(\"{:,}\".format)\n",
    "district_summary[\"Total Budget\"] = district_summary[\"Total Budget\"].map(\"${:,.2f}\".format)\n",
    "district_summary[\"Average Math Score\"] = district_summary[\"Average Math Score\"].map(\"{:,.2f}\".format)\n",
    "district_summary[\"Average Reading Score\"] = district_summary[\"Average Reading Score\"].map(\"{:,.2f}\".format)\n",
    "district_summary[\"% Passing Math\"] = district_summary[\"% Passing Math\"].map(\"{:,.2f}\".format)\n",
    "district_summary[\"% Passing Reading\"]=district_summary[\"% Passing Reading\"].map(\"{:,.2f}\".format)\n",
    "district_summary[\"% Overall Passing\"]=district_summary[\"% Overall Passing\"].map(\"{:,.2f}\".format)\n",
    "\n",
    "# printing district_summary\n",
    "\n",
    "district_summary\n"
   ]
  },
  {
   "cell_type": "markdown",
   "id": "81b7a593",
   "metadata": {},
   "source": [
    "# School Summary"
   ]
  },
  {
   "cell_type": "code",
   "execution_count": null,
   "id": "2b0f94b4",
   "metadata": {},
   "outputs": [],
   "source": [
    "#Selecting all of the school type\n",
    "\n",
    "school_type = school_data_df.set_index([\"school_name\"])[\"type\"]\n",
    "school_type"
   ]
  },
  {
   "cell_type": "code",
   "execution_count": null,
   "id": "326aefe1",
   "metadata": {},
   "outputs": [],
   "source": [
    "# Calculating the total student count per school\n",
    "\n",
    "per_school_students = all_data_df[\"school_name\"].value_counts()\n",
    "per_school_students"
   ]
  },
  {
   "cell_type": "code",
   "execution_count": null,
   "id": "bd8ed423",
   "metadata": {},
   "outputs": [],
   "source": [
    "# Calculating the total school budget \n",
    "budget_per_school = all_data_df.groupby([\"school_name\"]).mean()[\"budget\"]\n",
    "budget_per_school "
   ]
  },
  {
   "cell_type": "code",
   "execution_count": null,
   "id": "f1ac07a1",
   "metadata": {},
   "outputs": [],
   "source": [
    "# Calculating per capita spending per school\n",
    "\n",
    "per_school_capita = budget_per_school / per_school_students\n",
    "per_school_capita"
   ]
  },
  {
   "cell_type": "code",
   "execution_count": null,
   "id": "bbcc0b18",
   "metadata": {},
   "outputs": [],
   "source": []
  },
  {
   "cell_type": "code",
   "execution_count": null,
   "id": "2ee2a608",
   "metadata": {},
   "outputs": [],
   "source": []
  },
  {
   "cell_type": "code",
   "execution_count": null,
   "id": "83242141",
   "metadata": {},
   "outputs": [],
   "source": []
  },
  {
   "cell_type": "code",
   "execution_count": null,
   "id": "8e8b8214",
   "metadata": {},
   "outputs": [],
   "source": []
  },
  {
   "cell_type": "code",
   "execution_count": null,
   "id": "6cdbb286",
   "metadata": {},
   "outputs": [],
   "source": []
  },
  {
   "cell_type": "code",
   "execution_count": null,
   "id": "122fe2d0",
   "metadata": {},
   "outputs": [],
   "source": []
  },
  {
   "cell_type": "code",
   "execution_count": null,
   "id": "7a833444",
   "metadata": {},
   "outputs": [],
   "source": []
  },
  {
   "cell_type": "code",
   "execution_count": null,
   "id": "51ce8fe4",
   "metadata": {},
   "outputs": [],
   "source": []
  },
  {
   "cell_type": "code",
   "execution_count": null,
   "id": "64e49efa",
   "metadata": {},
   "outputs": [],
   "source": []
  }
 ],
 "metadata": {
  "kernelspec": {
   "display_name": "Python 3 (ipykernel)",
   "language": "python",
   "name": "python3"
  },
  "language_info": {
   "codemirror_mode": {
    "name": "ipython",
    "version": 3
   },
   "file_extension": ".py",
   "mimetype": "text/x-python",
   "name": "python",
   "nbconvert_exporter": "python",
   "pygments_lexer": "ipython3",
   "version": "3.11.4"
  }
 },
 "nbformat": 4,
 "nbformat_minor": 5
}
